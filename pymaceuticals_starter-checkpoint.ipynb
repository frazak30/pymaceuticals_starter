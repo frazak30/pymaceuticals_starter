{
 "cells": [
  {
   "cell_type": "markdown",
   "metadata": {},
   "source": [
    "## Observations and Insights"
   ]
  },
  {
   "cell_type": "markdown",
   "metadata": {},
   "source": []
  },
  {
   "cell_type": "markdown",
   "metadata": {},
   "source": [
    "## Dependencies and starter code"
   ]
  },
  {
   "cell_type": "code",
   "execution_count": 1,
   "metadata": {},
   "outputs": [
    {
     "data": {
      "text/html": [
       "<div>\n",
       "<style scoped>\n",
       "    .dataframe tbody tr th:only-of-type {\n",
       "        vertical-align: middle;\n",
       "    }\n",
       "\n",
       "    .dataframe tbody tr th {\n",
       "        vertical-align: top;\n",
       "    }\n",
       "\n",
       "    .dataframe thead th {\n",
       "        text-align: right;\n",
       "    }\n",
       "</style>\n",
       "<table border=\"1\" class=\"dataframe\">\n",
       "  <thead>\n",
       "    <tr style=\"text-align: right;\">\n",
       "      <th></th>\n",
       "      <th>Mouse ID</th>\n",
       "      <th>Drug Regimen</th>\n",
       "      <th>Sex</th>\n",
       "      <th>Age_months</th>\n",
       "      <th>Weight (g)</th>\n",
       "      <th>Timepoint</th>\n",
       "      <th>Tumor Volume (mm3)</th>\n",
       "      <th>Metastatic Sites</th>\n",
       "    </tr>\n",
       "  </thead>\n",
       "  <tbody>\n",
       "    <tr>\n",
       "      <th>0</th>\n",
       "      <td>k403</td>\n",
       "      <td>Ramicane</td>\n",
       "      <td>Male</td>\n",
       "      <td>21</td>\n",
       "      <td>16</td>\n",
       "      <td>0</td>\n",
       "      <td>45.000000</td>\n",
       "      <td>0</td>\n",
       "    </tr>\n",
       "    <tr>\n",
       "      <th>1</th>\n",
       "      <td>k403</td>\n",
       "      <td>Ramicane</td>\n",
       "      <td>Male</td>\n",
       "      <td>21</td>\n",
       "      <td>16</td>\n",
       "      <td>5</td>\n",
       "      <td>38.825898</td>\n",
       "      <td>0</td>\n",
       "    </tr>\n",
       "    <tr>\n",
       "      <th>2</th>\n",
       "      <td>k403</td>\n",
       "      <td>Ramicane</td>\n",
       "      <td>Male</td>\n",
       "      <td>21</td>\n",
       "      <td>16</td>\n",
       "      <td>10</td>\n",
       "      <td>35.014271</td>\n",
       "      <td>1</td>\n",
       "    </tr>\n",
       "    <tr>\n",
       "      <th>3</th>\n",
       "      <td>k403</td>\n",
       "      <td>Ramicane</td>\n",
       "      <td>Male</td>\n",
       "      <td>21</td>\n",
       "      <td>16</td>\n",
       "      <td>15</td>\n",
       "      <td>34.223992</td>\n",
       "      <td>1</td>\n",
       "    </tr>\n",
       "    <tr>\n",
       "      <th>4</th>\n",
       "      <td>k403</td>\n",
       "      <td>Ramicane</td>\n",
       "      <td>Male</td>\n",
       "      <td>21</td>\n",
       "      <td>16</td>\n",
       "      <td>20</td>\n",
       "      <td>32.997729</td>\n",
       "      <td>1</td>\n",
       "    </tr>\n",
       "  </tbody>\n",
       "</table>\n",
       "</div>"
      ],
      "text/plain": [
       "  Mouse ID Drug Regimen   Sex  Age_months  Weight (g)  Timepoint  \\\n",
       "0     k403     Ramicane  Male          21          16          0   \n",
       "1     k403     Ramicane  Male          21          16          5   \n",
       "2     k403     Ramicane  Male          21          16         10   \n",
       "3     k403     Ramicane  Male          21          16         15   \n",
       "4     k403     Ramicane  Male          21          16         20   \n",
       "\n",
       "   Tumor Volume (mm3)  Metastatic Sites  \n",
       "0           45.000000                 0  \n",
       "1           38.825898                 0  \n",
       "2           35.014271                 1  \n",
       "3           34.223992                 1  \n",
       "4           32.997729                 1  "
      ]
     },
     "execution_count": 1,
     "metadata": {},
     "output_type": "execute_result"
    }
   ],
   "source": [
    "# Dependencies and Setup\n",
    "import matplotlib.pyplot as plt\n",
    "import pandas as pd\n",
    "import scipy.stats as st\n",
    "import numpy as np\n",
    "from scipy.stats import linregress\n",
    "# Study data files\n",
    "mouse_metadata = \"data/Mouse_metadata.csv\"\n",
    "study_results = \"data/Study_results.csv\"\n",
    "\n",
    "# Read the mouse data and the study results\n",
    "mouse_metadata = pd.read_csv(mouse_metadata)\n",
    "study_results = pd.read_csv(study_results)\n",
    "\n",
    "# Combine the data into a single dataset\n",
    "data = mouse_metadata.merge(study_results, how = 'left')\n",
    "data.head()"
   ]
  },
  {
   "cell_type": "markdown",
   "metadata": {},
   "source": [
    "## Summary statistics"
   ]
  },
  {
   "cell_type": "code",
   "execution_count": 2,
   "metadata": {
    "scrolled": true
   },
   "outputs": [
    {
     "data": {
      "text/html": [
       "<div>\n",
       "<style scoped>\n",
       "    .dataframe tbody tr th:only-of-type {\n",
       "        vertical-align: middle;\n",
       "    }\n",
       "\n",
       "    .dataframe tbody tr th {\n",
       "        vertical-align: top;\n",
       "    }\n",
       "\n",
       "    .dataframe thead th {\n",
       "        text-align: right;\n",
       "    }\n",
       "</style>\n",
       "<table border=\"1\" class=\"dataframe\">\n",
       "  <thead>\n",
       "    <tr style=\"text-align: right;\">\n",
       "      <th></th>\n",
       "      <th>Mean Tumor Vol</th>\n",
       "      <th>Median Tumor Vol</th>\n",
       "      <th>Variance Tumor Vol</th>\n",
       "      <th>STD Tumor Vol</th>\n",
       "      <th>SEM Tumor Vol</th>\n",
       "    </tr>\n",
       "    <tr>\n",
       "      <th>Drug Regimen</th>\n",
       "      <th></th>\n",
       "      <th></th>\n",
       "      <th></th>\n",
       "      <th></th>\n",
       "      <th></th>\n",
       "    </tr>\n",
       "  </thead>\n",
       "  <tbody>\n",
       "    <tr>\n",
       "      <th>Capomulin</th>\n",
       "      <td>40.675741</td>\n",
       "      <td>41.557809</td>\n",
       "      <td>24.947764</td>\n",
       "      <td>4.994774</td>\n",
       "      <td>0.329346</td>\n",
       "    </tr>\n",
       "    <tr>\n",
       "      <th>Ceftamin</th>\n",
       "      <td>52.591172</td>\n",
       "      <td>51.776157</td>\n",
       "      <td>39.290177</td>\n",
       "      <td>6.268188</td>\n",
       "      <td>0.469821</td>\n",
       "    </tr>\n",
       "    <tr>\n",
       "      <th>Infubinol</th>\n",
       "      <td>52.884795</td>\n",
       "      <td>51.820584</td>\n",
       "      <td>43.128684</td>\n",
       "      <td>6.567243</td>\n",
       "      <td>0.492236</td>\n",
       "    </tr>\n",
       "    <tr>\n",
       "      <th>Ketapril</th>\n",
       "      <td>55.235638</td>\n",
       "      <td>53.698743</td>\n",
       "      <td>68.553577</td>\n",
       "      <td>8.279709</td>\n",
       "      <td>0.603860</td>\n",
       "    </tr>\n",
       "    <tr>\n",
       "      <th>Naftisol</th>\n",
       "      <td>54.331565</td>\n",
       "      <td>52.509285</td>\n",
       "      <td>66.173479</td>\n",
       "      <td>8.134708</td>\n",
       "      <td>0.596466</td>\n",
       "    </tr>\n",
       "    <tr>\n",
       "      <th>Placebo</th>\n",
       "      <td>54.033581</td>\n",
       "      <td>52.288934</td>\n",
       "      <td>61.168083</td>\n",
       "      <td>7.821003</td>\n",
       "      <td>0.581331</td>\n",
       "    </tr>\n",
       "    <tr>\n",
       "      <th>Propriva</th>\n",
       "      <td>52.322552</td>\n",
       "      <td>50.854632</td>\n",
       "      <td>42.351070</td>\n",
       "      <td>6.507770</td>\n",
       "      <td>0.512884</td>\n",
       "    </tr>\n",
       "    <tr>\n",
       "      <th>Ramicane</th>\n",
       "      <td>40.216745</td>\n",
       "      <td>40.673236</td>\n",
       "      <td>23.486704</td>\n",
       "      <td>4.846308</td>\n",
       "      <td>0.320955</td>\n",
       "    </tr>\n",
       "    <tr>\n",
       "      <th>Stelasyn</th>\n",
       "      <td>54.233149</td>\n",
       "      <td>52.431737</td>\n",
       "      <td>59.450562</td>\n",
       "      <td>7.710419</td>\n",
       "      <td>0.573111</td>\n",
       "    </tr>\n",
       "    <tr>\n",
       "      <th>Zoniferol</th>\n",
       "      <td>53.236507</td>\n",
       "      <td>51.818479</td>\n",
       "      <td>48.533355</td>\n",
       "      <td>6.966589</td>\n",
       "      <td>0.516398</td>\n",
       "    </tr>\n",
       "  </tbody>\n",
       "</table>\n",
       "</div>"
      ],
      "text/plain": [
       "              Mean Tumor Vol  Median Tumor Vol  Variance Tumor Vol  \\\n",
       "Drug Regimen                                                         \n",
       "Capomulin          40.675741         41.557809           24.947764   \n",
       "Ceftamin           52.591172         51.776157           39.290177   \n",
       "Infubinol          52.884795         51.820584           43.128684   \n",
       "Ketapril           55.235638         53.698743           68.553577   \n",
       "Naftisol           54.331565         52.509285           66.173479   \n",
       "Placebo            54.033581         52.288934           61.168083   \n",
       "Propriva           52.322552         50.854632           42.351070   \n",
       "Ramicane           40.216745         40.673236           23.486704   \n",
       "Stelasyn           54.233149         52.431737           59.450562   \n",
       "Zoniferol          53.236507         51.818479           48.533355   \n",
       "\n",
       "              STD Tumor Vol  SEM Tumor Vol  \n",
       "Drug Regimen                                \n",
       "Capomulin          4.994774       0.329346  \n",
       "Ceftamin           6.268188       0.469821  \n",
       "Infubinol          6.567243       0.492236  \n",
       "Ketapril           8.279709       0.603860  \n",
       "Naftisol           8.134708       0.596466  \n",
       "Placebo            7.821003       0.581331  \n",
       "Propriva           6.507770       0.512884  \n",
       "Ramicane           4.846308       0.320955  \n",
       "Stelasyn           7.710419       0.573111  \n",
       "Zoniferol          6.966589       0.516398  "
      ]
     },
     "execution_count": 2,
     "metadata": {},
     "output_type": "execute_result"
    }
   ],
   "source": [
    "# Generate a summary statistics table of mean, median, variance, standard deviation, and SEM of the tumor volume for each regimen\n",
    "tumor_response_mean_df = (data.groupby(['Drug Regimen'])['Tumor Volume (mm3)'].mean())\n",
    "#print(tumor_response_mean_df)\n",
    "\n",
    "tumor_response_median_df = (data.groupby(['Drug Regimen'])['Tumor Volume (mm3)'].median())\n",
    "#print(tumor_response_median_df)\n",
    "\n",
    "tumor_response_sem_df = (data.groupby(['Drug Regimen'])['Tumor Volume (mm3)'].sem())\n",
    "#print(tumor_response_sem_df)\n",
    "\n",
    "tumor_response_var_df = (data.groupby(['Drug Regimen'])['Tumor Volume (mm3)'].var()) \n",
    "#print(tumor_response_var_df)\n",
    "\n",
    "tumor_response_std_df = (data.groupby(['Drug Regimen'])['Tumor Volume (mm3)'].std()) \n",
    "#print(tumor_response_std_df)\n",
    "\n",
    "summary_df = pd.DataFrame({\n",
    "    \"Mean Tumor Vol\":tumor_response_mean_df,\n",
    "    \"Median Tumor Vol\": tumor_response_median_df,\n",
    "    \"Variance Tumor Vol\": tumor_response_var_df,\n",
    "    \"STD Tumor Vol\": tumor_response_std_df,\n",
    "    \"SEM Tumor Vol\": tumor_response_sem_df\n",
    "    \n",
    "    \n",
    "})\n",
    "summary_df\n"
   ]
  },
  {
   "cell_type": "markdown",
   "metadata": {},
   "source": [
    "## Bar plots"
   ]
  },
  {
   "cell_type": "code",
   "execution_count": 3,
   "metadata": {
    "scrolled": true
   },
   "outputs": [
    {
     "data": {
      "text/plain": [
       "Text(0.5, 1.0, 'Data Point per Drug Regimen')"
      ]
     },
     "execution_count": 3,
     "metadata": {},
     "output_type": "execute_result"
    },
    {
     "data": {
      "image/png": "[encoded data removed]",
      "text/plain": [
       "<Figure size 432x288 with 1 Axes>"
      ]
     },
     "metadata": {
      "needs_background": "light"
     },
     "output_type": "display_data"
    }
   ],
   "source": [
    "# Generate a bar plot showing number of data points for each treatment regimen using pandas\n",
    "data_points = data.groupby(\"Drug Regimen\")[\"Drug Regimen\"].count()\n",
    "#data_points\n",
    "colors = [\"blue\", \"orange\", \"red\", \"pink\", \"green\", \"black\", \"purple\", \"gold\", \"gray\", \"aqua\"] \n",
    "\n",
    "treatment_chart = data_points.plot(kind=\"bar\", color = colors, rot = 45)\n",
    "# add lables\n",
    "treatment_chart.set_xlabel('Drug Regimen')\n",
    "treatment_chart.set_ylabel('Data Points')\n",
    "treatment_chart.set_title('Data Point per Drug Regimen')\n"
   ]
  },
  {
   "cell_type": "code",
   "execution_count": 4,
   "metadata": {},
   "outputs": [
    {
     "data": {
      "image/png": "[encoded data removed]",
      "text/plain": [
       "<Figure size 432x288 with 1 Axes>"
      ]
     },
     "metadata": {
      "needs_background": "light"
     },
     "output_type": "display_data"
    }
   ],
   "source": [
    "# Generate a bar plot showing number of data points for each treatment regimen using pyplot\n",
    "drug_names =[]\n",
    "for drug in data[\"Drug Regimen\"]:\n",
    "    if drug not in drug_names:\n",
    "        drug_names.append(drug)\n",
    "        drug_names = sorted(drug_names)\n",
    "        \n",
    "#drug_names    \n",
    "x_axis = np.arange(0, len(drug_names))\n",
    "tick_locations = []\n",
    "for x in x_axis:\n",
    "    tick_locations.append(x)\n",
    " \n",
    "plt.title('Data Points per Drug Regimen')\n",
    "plt.ylabel('Data Points')\n",
    "plt.xlabel('Drug Regimen')                   \n",
    "    \n",
    "plt.xlim(-0.75, len(data_points)-0.25)\n",
    "plt.ylim(0, max(data_points) + 10)\n",
    "\n",
    "\n",
    "plt.bar(x_axis, data_points, color= colors, align=\"center\")\n",
    "plt.xticks(tick_locations, drug_names)\n",
    "plt.xticks(rotation = 45)\n",
    "\n",
    "\n",
    "plt.show()\n",
    "\n",
    "\n"
   ]
  },
  {
   "cell_type": "markdown",
   "metadata": {},
   "source": [
    "## Pie plots"
   ]
  },
  {
   "cell_type": "code",
   "execution_count": 5,
   "metadata": {},
   "outputs": [
    {
     "data": {
      "image/png": "[encoded data removed]",
      "text/plain": [
       "<Figure size 432x288 with 1 Axes>"
      ]
     },
     "metadata": {},
     "output_type": "display_data"
    }
   ],
   "source": [
    "# Generate a pie plot showing the distribution of female versus male mice using pandas\n",
    "data_points = data.groupby(\"Sex\")[\"Sex\"].count()\n",
    "colors = [\"blue\", \"pink\"] \n",
    "plt.title(\"Female vs Male Distribution\")\n",
    "explode = (0.1, 0)\n",
    "plt.pie(data_points, colors=colors,\n",
    "        autopct=\"%1.1f%%\", shadow=True, startangle=140, explode = (0.1, 0))\n",
    "plot = data_points.plot.pie\n",
    "\n"
   ]
  },
  {
   "cell_type": "code",
   "execution_count": 6,
   "metadata": {},
   "outputs": [
    {
     "data": {
      "text/plain": [
       "(-1.1874943525713364,\n",
       " 1.1105268056883157,\n",
       " -1.1938032889323704,\n",
       " 1.112116577938631)"
      ]
     },
     "execution_count": 6,
     "metadata": {},
     "output_type": "execute_result"
    },
    {
     "data": {
      "image/png": "[encoded data removed]",
      "text/plain": [
       "<Figure size 432x288 with 1 Axes>"
      ]
     },
     "metadata": {},
     "output_type": "display_data"
    }
   ],
   "source": [
    "# Generate a pie plot showing the distribution of female versus male mice using pyplot\n",
    "data_points = data.groupby(\"Sex\")[\"Sex\"].count()\n",
    "labels = [\"Male\", \"Female\"]\n",
    "#data_points\n",
    "colors = [\"blue\", \"pink\"] \n",
    "explode = (0.1, 0)\n",
    "plt.title(\"Female vs Male Distribution\")\n",
    "plt.pie(data_points, labels=labels, colors=colors,\n",
    "        autopct=\"%1.1f%%\", shadow=True, startangle=140, explode = (0.1, 0))\n",
    "\n",
    "plt.axis(\"equal\")"
   ]
  },
  {
   "cell_type": "markdown",
   "metadata": {},
   "source": [
    "## Quartiles, outliers and boxplots"
   ]
  },
  {
   "cell_type": "code",
   "execution_count": 7,
   "metadata": {},
   "outputs": [
    {
     "name": "stdout",
     "output_type": "stream",
     "text": [
      "The lower quartile of Capomulin is: 32.37735684\n",
      "The upper quartile of Capomulin is: 40.1592203\n",
      "The interquartile range of Capomulin is: 7.781863460000004\n",
      "The the median of Capomulin is: 38.125164399999996 \n",
      "--------------------------\n",
      "The lower quartile of Ramicane is: 31.56046955\n",
      "The upper quartile of Ramicane is: 40.65900627\n",
      "The interquartile range of Ramicane is: 9.098536719999998\n",
      "The the median of Ramicane is: 36.56165229 \n",
      "--------------------------\n",
      "The lower quartile of Infubinol is: 31.56046955\n",
      "The upper quartile of Infubinol is: 40.65900627\n",
      "The interquartile range of Infubinol is: 9.098536719999998\n",
      "The the median of Infubinol is: 60.16518046 \n",
      "--------------------------\n",
      "The lower quartile of Ceftamin is: 48.72207785\n",
      "The upper quartile of Ceftamin is: 64.29983003\n",
      "The interquartile range of Ceftamin is: 15.577752179999997\n",
      "The the median of Ceftamin is: 59.85195552 \n",
      "--------------------------\n",
      "Values below 20.70456164999999 for Capomulin Treatment could be outliers.\n",
      "Values above 51.83201549 for Capomulin Treatment could be outliers.\n",
      "--------------------------\n",
      "Values below 17.912664470000003 for Ramicane Treatment could be outliers.\n",
      "Values above 54.30681135 for Ramicane Treatment could be outliers.\n",
      "--------------------------\n",
      "Values below 36.83290494999999 for Infubinol Treatment could be outliers.\n",
      "Values above 82.74144559000001 for Infubinol Treatment could be outliers.\n",
      "--------------------------\n",
      "Values below 25.355449580000002 for Ceftamin Treatment could be outliers.\n",
      "Values above 87.66645829999999 for Ceftamin Treatment could be outliers.\n"
     ]
    }
   ],
   "source": [
    "#Calculate the final tumor volume of each mouse across four of the most promising treatment regimens. \n",
    "#Calculate the IQR and quantitatively determine if there are any potential outliers. \n",
    "\n",
    "max_ = data.groupby(['Mouse ID']).max()\n",
    "max_ = max_.reset_index()\n",
    "max_merged = max_[['Mouse ID', 'Timepoint']].merge(data, on = ['Mouse ID', 'Timepoint'], how = 'left')\n",
    "\n",
    "#max_merged\n",
    "\n",
    "capomulin = max_merged.loc[max_merged[\"Drug Regimen\"] == \"Capomulin\", \"Tumor Volume (mm3)\"]\n",
    "ramicane = max_merged.loc[max_merged[\"Drug Regimen\"] == \"Ramicane\", \"Tumor Volume (mm3)\"]\n",
    "infubinol = max_merged.loc[max_merged[\"Drug Regimen\"] == \"Infubinol\", \"Tumor Volume (mm3)\"]\n",
    "ceftamin = max_merged.loc[max_merged[\"Drug Regimen\"] == \"Ceftamin\", \"Tumor Volume (mm3)\"]\n",
    "\n",
    "\n",
    "cap_quartiles = capomulin.quantile([.25,.5,.75])\n",
    "cap_lowerq = cap_quartiles[0.25]\n",
    "cap_upperq = cap_quartiles[0.75]\n",
    "cap_iqr = cap_upperq-cap_lowerq\n",
    "cap_lower_bound = cap_lowerq - (1.5*cap_iqr)\n",
    "cap_upper_bound = cap_upperq + (1.5*cap_iqr)\n",
    "\n",
    "potential_outliers_cap = capomulin.loc[(capomulin < cap_lower_bound) | (capomulin > cap_upper_bound)]\n",
    "potential_outliers_cap\n",
    "\n",
    "print(f\"The lower quartile of Capomulin is: {cap_lowerq}\")\n",
    "print(f\"The upper quartile of Capomulin is: {cap_upperq}\")\n",
    "print(f\"The interquartile range of Capomulin is: {cap_iqr}\")\n",
    "print(f\"The the median of Capomulin is: {cap_quartiles[0.5]} \")\n",
    "\n",
    "print(\"--------------------------\")\n",
    "\n",
    "ram_quartiles = ramicane.quantile([.25,.5,.75])\n",
    "ram_lowerq = ram_quartiles[0.25]\n",
    "ram_upperq = ram_quartiles[0.75]\n",
    "ram_iqr = ram_upperq-ram_lowerq\n",
    "ram_lower_bound = ram_lowerq - (1.5*ram_iqr)\n",
    "ram_upper_bound = ram_upperq + (1.5*ram_iqr)\n",
    "\n",
    "potential_outliers_ram = ramicane.loc[(ramicane < ram_lower_bound) | (ramicane > ram_upper_bound)]\n",
    "potential_outliers_ram\n",
    "\n",
    "print(f\"The lower quartile of Ramicane is: {ram_lowerq}\")\n",
    "print(f\"The upper quartile of Ramicane is: {ram_upperq}\")\n",
    "print(f\"The interquartile range of Ramicane is: {ram_iqr}\")\n",
    "print(f\"The the median of Ramicane is: {ram_quartiles[0.5]} \")\n",
    "\n",
    "print(\"--------------------------\")\n",
    "\n",
    "infu_quartiles = infubinol.quantile([.25,.5,.75])\n",
    "infu_lowerq = infu_quartiles[0.25]\n",
    "infu_upperq = infu_quartiles[0.75]\n",
    "infu_iqr = infu_upperq-infu_lowerq\n",
    "infu_lower_bound = infu_lowerq - (1.5*infu_iqr)\n",
    "infu_upper_bound = infu_upperq + (1.5*infu_iqr)\n",
    "\n",
    "potential_outliers_infu = infubinol.loc[(infubinol < infu_lower_bound) | (infubinol > infu_upper_bound)]\n",
    "potential_outliers_infu\n",
    "\n",
    "print(f\"The lower quartile of Infubinol is: {ram_lowerq}\")\n",
    "print(f\"The upper quartile of Infubinol is: {ram_upperq}\")\n",
    "print(f\"The interquartile range of Infubinol is: {ram_iqr}\")\n",
    "print(f\"The the median of Infubinol is: {infu_quartiles[0.5]} \")\n",
    "\n",
    "print(\"--------------------------\")\n",
    "\n",
    "cef_quartiles = ceftamin.quantile([.25,.5,.75])\n",
    "cef_lowerq = cef_quartiles[0.25]\n",
    "cef_upperq = cef_quartiles[0.75]\n",
    "cef_iqr = cef_upperq-cef_lowerq\n",
    "cef_lower_bound = cef_lowerq - (1.5*cef_iqr)\n",
    "cef_upper_bound = cef_upperq + (1.5*cef_iqr)\n",
    "\n",
    "potential_outliers_cef = ceftamin.loc[(ceftamin < cef_lower_bound) | (ceftamin > cef_upper_bound)]\n",
    "potential_outliers_cef\n",
    "\n",
    "print(f\"The lower quartile of Ceftamin is: {cef_lowerq}\")\n",
    "print(f\"The upper quartile of Ceftamin is: {cef_upperq}\")\n",
    "print(f\"The interquartile range of Ceftamin is: {cef_iqr}\")\n",
    "print(f\"The the median of Ceftamin is: {cef_quartiles[0.5]} \")\n",
    "\n",
    "print(\"--------------------------\")\n",
    "\n",
    "print(f\"Values below {cap_lower_bound} for Capomulin Treatment could be outliers.\")\n",
    "print(f\"Values above {cap_upper_bound} for Capomulin Treatment could be outliers.\")\n",
    "\n",
    "print(\"--------------------------\")\n",
    "\n",
    "print(f\"Values below {ram_lower_bound} for Ramicane Treatment could be outliers.\")\n",
    "print(f\"Values above {ram_upper_bound} for Ramicane Treatment could be outliers.\")\n",
    "\n",
    "print(\"--------------------------\")\n",
    "\n",
    "print(f\"Values below {infu_lower_bound} for Infubinol Treatment could be outliers.\")\n",
    "print(f\"Values above {infu_upper_bound} for Infubinol Treatment could be outliers.\")\n",
    "\n",
    "print(\"--------------------------\")\n",
    "\n",
    "print(f\"Values below {cef_lower_bound} for Ceftamin Treatment could be outliers.\")\n",
    "print(f\"Values above {cef_upper_bound} for Ceftamin Treatment could be outliers.\")\n"
   ]
  },
  {
   "cell_type": "code",
   "execution_count": 8,
   "metadata": {},
   "outputs": [
    {
     "data": {
      "image/png": "[encoded data removed]",
      "text/plain": [
       "<Figure size 432x288 with 1 Axes>"
      ]
     },
     "metadata": {
      "needs_background": "light"
     },
     "output_type": "display_data"
    }
   ],
   "source": [
    "# Generate a box plot of the final tumor volume of each mouse across four regimens of interest\n",
    "Var = [capomulin,ramicane,infubinol,ceftamin]\n",
    "#plt.boxplot(Var)\n",
    "green_diamond = dict(markerfacecolor='g', marker='D')\n",
    "fig1, ax1 = plt.subplots()\n",
    "ax1.set_title('Final Tumor Volume for each Mouse')\n",
    "ax1.set_ylabel('Tumor Volume')\n",
    "ax1.boxplot(Var, notch=True, flierprops=green_diamond)\n",
    "plt.show()\n"
   ]
  },
  {
   "cell_type": "markdown",
   "metadata": {},
   "source": [
    "## Line and scatter plots"
   ]
  },
  {
   "cell_type": "code",
   "execution_count": 9,
   "metadata": {
    "scrolled": true
   },
   "outputs": [
    {
     "data": {
      "image/png": "[encoded data removed]",
      "text/plain": [
       "<Figure size 432x288 with 1 Axes>"
      ]
     },
     "metadata": {
      "needs_background": "light"
     },
     "output_type": "display_data"
    }
   ],
   "source": [
    "# Generate a line plot of time point versus tumor volume for a mouse treated with Capomulin\n",
    "\n",
    "\n",
    "mouse_treated = data[data[\"Mouse ID\"].isin([\"b128\"])]\n",
    "mouse_treated\n",
    "\n",
    "mouse_treated_data = mouse_treated[[\"Mouse ID\", \"Timepoint\", \"Tumor Volume (mm3)\"]]\n",
    "mouse_treated_data\n",
    "\n",
    "line_plot_df = mouse_treated_data.reset_index()\n",
    "line_plot_df\n",
    "\n",
    "\n",
    "line_plot_final = line_plot_df[[\"Mouse ID\", \"Timepoint\", \"Tumor Volume (mm3)\"]]\n",
    "\n",
    "line_plot_final\n",
    "\n",
    "lines = line_plot_final.plot.line()\n"
   ]
  },
  {
   "cell_type": "code",
   "execution_count": 10,
   "metadata": {},
   "outputs": [
    {
     "data": {
      "text/plain": [
       "Text(0.5, 0, 'Weight (g)')"
      ]
     },
     "execution_count": 10,
     "metadata": {},
     "output_type": "execute_result"
    },
    {
     "data": {
      "image/png": "[encoded data removed]",
      "text/plain": [
       "<Figure size 432x288 with 1 Axes>"
      ]
     },
     "metadata": {
      "needs_background": "light"
     },
     "output_type": "display_data"
    }
   ],
   "source": [
    "# Generate a scatter plot of mouse weight versus average tumor volume for the Capomulin regimen\n",
    "cap_mean = data.loc[data[\"Drug Regimen\"]==\"Capomulin\"].groupby(\"Mouse ID\").mean()\n",
    "plt.scatter(cap_mean[\"Weight (g)\"], cap_mean[\"Tumor Volume (mm3)\"])\n",
    "\n",
    "plt.ylabel('Tumor Volume (mm3)')\n",
    "plt.xlabel('Weight (g)')\n"
   ]
  },
  {
   "cell_type": "code",
   "execution_count": 11,
   "metadata": {},
   "outputs": [
    {
     "name": "stdout",
     "output_type": "stream",
     "text": [
      "The r-squared is: 0.5874984592659994\n"
     ]
    },
    {
     "data": {
      "text/plain": [
       "[<matplotlib.lines.Line2D at 0x23316cddf88>]"
      ]
     },
     "execution_count": 11,
     "metadata": {},
     "output_type": "execute_result"
    },
    {
     "data": {
      "image/png": "[encoded data removed]",
      "text/plain": [
       "<Figure size 432x288 with 1 Axes>"
      ]
     },
     "metadata": {
      "needs_background": "light"
     },
     "output_type": "display_data"
    }
   ],
   "source": [
    "# Calculate the correlation coefficient and linear regression model \n",
    "#for mouse weight and average tumor volume for the Capomulin regimen\n",
    "\n",
    "x_values = data['Weight (g)']\n",
    "y_values = data['Tumor Volume (mm3)']\n",
    "\n",
    "(slope, intercept, rvalue, pvalue, stderr) = linregress(x_values, y_values)\n",
    "regress_values = x_values * slope + intercept\n",
    "\n",
    "reg_details = st.linregress(cap_mean[\"Weight (g)\"], cap_mean[\"Tumor Volume (mm3)\"]) \n",
    "\n",
    "y_value = cap_mean[\"Weight (g)\"] * reg_details[0] + reg_details[1]\n",
    "plt.ylabel('Tumor Volume (mm3)')\n",
    "plt.xlabel('Weight (g)')\n",
    "\n",
    "print(f\"The r-squared is: {rvalue}\")\n",
    "plt.scatter(cap_mean[\"Weight (g)\"], cap_mean[\"Tumor Volume (mm3)\"])\n",
    "plt.plot(cap_mean[\"Weight (g)\"], y_value, color=\"red\")"
   ]
  },
  {
   "cell_type": "code",
   "execution_count": null,
   "metadata": {},
   "outputs": [],
   "source": []
  }
 ],
 "metadata": {
  "anaconda-cloud": {},
  "kernelspec": {
   "display_name": "Python 3",
   "language": "python",
   "name": "python3"
  },
  "language_info": {
   "codemirror_mode": {
    "name": "ipython",
    "version": 3
   },
   "file_extension": ".py",
   "mimetype": "text/x-python",
   "name": "python",
   "nbconvert_exporter": "python",
   "pygments_lexer": "ipython3",
   "version": "3.7.6"
  }
 },
 "nbformat": 4,
 "nbformat_minor": 2
}
